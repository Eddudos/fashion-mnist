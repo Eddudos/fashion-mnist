{
 "cells": [
  {
   "cell_type": "code",
   "execution_count": 1,
   "metadata": {},
   "outputs": [
    {
     "name": "stdout",
     "output_type": "stream",
     "text": [
      "2.8.0\n"
     ]
    }
   ],
   "source": [
    "import tensorflow as tf\n",
    "print(tf.__version__)\n",
    "import matplotlib.pyplot as plt"
   ]
  },
  {
   "cell_type": "code",
   "execution_count": 2,
   "metadata": {},
   "outputs": [],
   "source": [
    "mapping = {0: \"T-shirt/top\", 1: \"Trouser\", 2: \"Pullover\", 3: \"Dress\",\n",
    "           4: \"Coat\", 5: \"Sandal\", 6: \"Shirt\", 7: \"Sneaker\", 8: \"Bag\",\n",
    "           9: \"Ankle boot\"}  # датасет содержит 10 классов\n",
    "\n",
    "def show_mnist(images, labels, predicted_labels=None):\n",
    "\n",
    "    for i in range(16):\n",
    "\n",
    "        plt.grid(False)\n",
    "        plt.imshow(images[i], cmap=plt.cm.gray)\n",
    "        if predicted_labels is not None:\n",
    "            title_obj = plt.title(f\"Real: {mapping[labels[i]]}. Pred: {mapping[predicted_labels[i]]}\")\n",
    "            if labels[i] != predicted_labels[i]:\n",
    "                plt.setp(title_obj, color='r')\n",
    "                plt.show()\n",
    "        else:\n",
    "            plt.title(f\"Real label: {mapping[labels[i]]}\")"
   ]
  },
  {
   "cell_type": "code",
   "execution_count": 3,
   "metadata": {},
   "outputs": [
    {
     "name": "stdout",
     "output_type": "stream",
     "text": [
      "Downloading data from https://storage.googleapis.com/tensorflow/tf-keras-datasets/train-labels-idx1-ubyte.gz\n",
      "32768/29515 [=================================] - 0s 2us/step\n",
      "40960/29515 [=========================================] - 0s 2us/step\n",
      "Downloading data from https://storage.googleapis.com/tensorflow/tf-keras-datasets/train-images-idx3-ubyte.gz\n",
      "26427392/26421880 [==============================] - 27s 1us/step\n",
      "26435584/26421880 [==============================] - 27s 1us/step\n",
      "Downloading data from https://storage.googleapis.com/tensorflow/tf-keras-datasets/t10k-labels-idx1-ubyte.gz\n",
      "16384/5148 [===============================================================================================] - 0s 0s/step\n",
      "Downloading data from https://storage.googleapis.com/tensorflow/tf-keras-datasets/t10k-images-idx3-ubyte.gz\n",
      "4423680/4422102 [==============================] - 4s 1us/step\n",
      "4431872/4422102 [==============================] - 4s 1us/step\n",
      "(60000, 28, 28) (10000, 28, 28)\n"
     ]
    },
    {
     "data": {
      "image/png": "[encoded data removed]",
      "text/plain": [
       "<Figure size 432x288 with 1 Axes>"
      ]
     },
     "metadata": {
      "needs_background": "light"
     },
     "output_type": "display_data"
    }
   ],
   "source": [
    "(x_train, y_train),(x_test, y_test) = tf.keras.datasets.fashion_mnist.load_data()\n",
    "x_train, x_test = x_train / 255.0, x_test / 255.0\n",
    "\n",
    "show_mnist(x_train, y_train)\n",
    "print(x_train.shape, x_test.shape)"
   ]
  },
  {
   "cell_type": "code",
   "execution_count": 4,
   "metadata": {},
   "outputs": [
    {
     "name": "stdout",
     "output_type": "stream",
     "text": [
      "Model: \"sequential\"\n",
      "_________________________________________________________________\n",
      " Layer (type)                Output Shape              Param #   \n",
      "=================================================================\n",
      " flatten (Flatten)           (None, 784)               0         \n",
      "                                                                 \n",
      " dense (Dense)               (None, 512)               401920    \n",
      "                                                                 \n",
      " dense_1 (Dense)             (None, 10)                5130      \n",
      "                                                                 \n",
      "=================================================================\n",
      "Total params: 407,050\n",
      "Trainable params: 407,050\n",
      "Non-trainable params: 0\n",
      "_________________________________________________________________\n",
      "Epoch 1/15\n",
      "469/469 [==============================] - 2s 4ms/step - loss: 0.5088 - accuracy: 0.8215 - val_loss: 0.4288 - val_accuracy: 0.8476\n",
      "Epoch 2/15\n",
      "469/469 [==============================] - 2s 4ms/step - loss: 0.3780 - accuracy: 0.8645 - val_loss: 0.3811 - val_accuracy: 0.8637\n",
      "Epoch 3/15\n",
      "469/469 [==============================] - 2s 4ms/step - loss: 0.3314 - accuracy: 0.8797 - val_loss: 0.3653 - val_accuracy: 0.8690\n",
      "Epoch 4/15\n",
      "469/469 [==============================] - 2s 4ms/step - loss: 0.3084 - accuracy: 0.8864 - val_loss: 0.3452 - val_accuracy: 0.8768\n",
      "Epoch 5/15\n",
      "469/469 [==============================] - 2s 4ms/step - loss: 0.2891 - accuracy: 0.8936 - val_loss: 0.3387 - val_accuracy: 0.8758\n",
      "Epoch 6/15\n",
      "469/469 [==============================] - 2s 4ms/step - loss: 0.2738 - accuracy: 0.8987 - val_loss: 0.3406 - val_accuracy: 0.8787\n",
      "Epoch 7/15\n",
      "469/469 [==============================] - 2s 4ms/step - loss: 0.2610 - accuracy: 0.9033 - val_loss: 0.3618 - val_accuracy: 0.8688\n",
      "Epoch 8/15\n",
      "469/469 [==============================] - 2s 4ms/step - loss: 0.2492 - accuracy: 0.9080 - val_loss: 0.3243 - val_accuracy: 0.8838\n",
      "Epoch 9/15\n",
      "469/469 [==============================] - 2s 4ms/step - loss: 0.2346 - accuracy: 0.9130 - val_loss: 0.3256 - val_accuracy: 0.8875\n",
      "Epoch 10/15\n",
      "469/469 [==============================] - 2s 4ms/step - loss: 0.2280 - accuracy: 0.9158 - val_loss: 0.3405 - val_accuracy: 0.8784\n",
      "Epoch 11/15\n",
      "469/469 [==============================] - 2s 4ms/step - loss: 0.2182 - accuracy: 0.9187 - val_loss: 0.3250 - val_accuracy: 0.8867\n",
      "Epoch 12/15\n",
      "469/469 [==============================] - 2s 4ms/step - loss: 0.2085 - accuracy: 0.9231 - val_loss: 0.3200 - val_accuracy: 0.8886\n",
      "Epoch 13/15\n",
      "469/469 [==============================] - 2s 4ms/step - loss: 0.2023 - accuracy: 0.9244 - val_loss: 0.3206 - val_accuracy: 0.8872\n",
      "Epoch 14/15\n",
      "469/469 [==============================] - 2s 4ms/step - loss: 0.1951 - accuracy: 0.9287 - val_loss: 0.3103 - val_accuracy: 0.8907\n",
      "Epoch 15/15\n",
      "469/469 [==============================] - 2s 4ms/step - loss: 0.1853 - accuracy: 0.9313 - val_loss: 0.3228 - val_accuracy: 0.8931\n"
     ]
    },
    {
     "data": {
      "text/plain": [
       "<keras.callbacks.History at 0x23aee99a9e0>"
      ]
     },
     "execution_count": 4,
     "metadata": {},
     "output_type": "execute_result"
    }
   ],
   "source": [
    "model = tf.keras.models.Sequential([\n",
    "                                    tf.keras.layers.Flatten(input_shape = (28, 28)),\n",
    "                                    tf.keras.layers.Dense(512, activation = 'relu'),\n",
    "                                    tf.keras.layers.Dense(10, activation = 'softmax')\n",
    "])\n",
    "\n",
    "model.summary()\n",
    "model.compile(optimizer = 'adam', \n",
    "              loss = 'sparse_categorical_crossentropy',\n",
    "              metrics = ['accuracy'])\n",
    "\n",
    "model.fit(x = x_train, y = y_train,\n",
    "          batch_size = 128, epochs = 15,\n",
    "          validation_data = (x_test, y_test))"
   ]
  },
  {
   "cell_type": "code",
   "execution_count": 5,
   "metadata": {},
   "outputs": [
    {
     "data": {
      "text/plain": [
       "((60000, 28, 28), (10000, 28, 28))"
      ]
     },
     "execution_count": 5,
     "metadata": {},
     "output_type": "execute_result"
    }
   ],
   "source": [
    "x_train.shape, x_test.shape"
   ]
  },
  {
   "cell_type": "code",
   "execution_count": 6,
   "metadata": {},
   "outputs": [
    {
     "name": "stdout",
     "output_type": "stream",
     "text": [
      "(60000, 28, 28, 1) (10000, 28, 28, 1)\n"
     ]
    }
   ],
   "source": [
    "x_train = x_train[..., None]\n",
    "x_test = x_test[..., None]\n",
    "print(x_train.shape, x_test.shape)"
   ]
  },
  {
   "cell_type": "code",
   "execution_count": 7,
   "metadata": {},
   "outputs": [
    {
     "name": "stdout",
     "output_type": "stream",
     "text": [
      "Model: \"sequential_1\"\n",
      "_________________________________________________________________\n",
      " Layer (type)                Output Shape              Param #   \n",
      "=================================================================\n",
      " conv2d (Conv2D)             (None, 28, 28, 32)        320       \n",
      "                                                                 \n",
      " max_pooling2d (MaxPooling2D  (None, 14, 14, 32)       0         \n",
      " )                                                               \n",
      "                                                                 \n",
      " conv2d_1 (Conv2D)           (None, 14, 14, 64)        18496     \n",
      "                                                                 \n",
      " max_pooling2d_1 (MaxPooling  (None, 7, 7, 64)         0         \n",
      " 2D)                                                             \n",
      "                                                                 \n",
      " flatten_1 (Flatten)         (None, 3136)              0         \n",
      "                                                                 \n",
      " dense_2 (Dense)             (None, 64)                200768    \n",
      "                                                                 \n",
      " dense_3 (Dense)             (None, 10)                650       \n",
      "                                                                 \n",
      "=================================================================\n",
      "Total params: 220,234\n",
      "Trainable params: 220,234\n",
      "Non-trainable params: 0\n",
      "_________________________________________________________________\n"
     ]
    }
   ],
   "source": [
    "# Adding few Conv2D layers\n",
    "model = tf.keras.Sequential()\n",
    "model.add(tf.keras.layers.Conv2D(filters=32, kernel_size=(3, 3), padding='same', \n",
    "                                 activation='relu', input_shape=(28, 28, 1))) \n",
    "model.add(tf.keras.layers.MaxPooling2D(pool_size=2))\n",
    "\n",
    "model.add(tf.keras.layers.Conv2D(filters=64, kernel_size=(3, 3), padding='same', \n",
    "                                 activation='relu'))\n",
    "model.add(tf.keras.layers.MaxPooling2D(pool_size=2))\n",
    "\n",
    "model.add(tf.keras.layers.Flatten())\n",
    "model.add(tf.keras.layers.Dense(64, activation='relu'))\n",
    "model.add(tf.keras.layers.Dense(10, activation='softmax'))\n",
    "model.summary()"
   ]
  },
  {
   "cell_type": "code",
   "execution_count": 8,
   "metadata": {},
   "outputs": [],
   "source": [
    "model.compile(optimizer='adam',\n",
    "              loss='sparse_categorical_crossentropy',\n",
    "              metrics=['accuracy'])"
   ]
  },
  {
   "cell_type": "code",
   "execution_count": 9,
   "metadata": {},
   "outputs": [
    {
     "name": "stdout",
     "output_type": "stream",
     "text": [
      "Epoch 1/20\n",
      "469/469 [==============================] - 24s 50ms/step - loss: 0.5062 - accuracy: 0.8176 - val_loss: 0.3884 - val_accuracy: 0.8561\n",
      "Epoch 2/20\n",
      "469/469 [==============================] - 24s 52ms/step - loss: 0.3263 - accuracy: 0.8824 - val_loss: 0.3552 - val_accuracy: 0.8681\n",
      "Epoch 3/20\n",
      "469/469 [==============================] - 24s 52ms/step - loss: 0.2791 - accuracy: 0.8996 - val_loss: 0.3195 - val_accuracy: 0.8846\n",
      "Epoch 4/20\n",
      "469/469 [==============================] - 25s 52ms/step - loss: 0.2527 - accuracy: 0.9080 - val_loss: 0.2662 - val_accuracy: 0.9062\n",
      "Epoch 5/20\n",
      "469/469 [==============================] - 25s 53ms/step - loss: 0.2316 - accuracy: 0.9160 - val_loss: 0.2574 - val_accuracy: 0.9069\n",
      "Epoch 6/20\n",
      "469/469 [==============================] - 25s 52ms/step - loss: 0.2138 - accuracy: 0.9219 - val_loss: 0.2604 - val_accuracy: 0.9054\n",
      "Epoch 7/20\n",
      "469/469 [==============================] - 24s 52ms/step - loss: 0.1969 - accuracy: 0.9277 - val_loss: 0.2551 - val_accuracy: 0.9112\n",
      "Epoch 8/20\n",
      "469/469 [==============================] - 24s 52ms/step - loss: 0.1816 - accuracy: 0.9341 - val_loss: 0.2409 - val_accuracy: 0.9123\n",
      "Epoch 9/20\n",
      "469/469 [==============================] - 24s 52ms/step - loss: 0.1685 - accuracy: 0.9391 - val_loss: 0.2485 - val_accuracy: 0.9138\n",
      "Epoch 10/20\n",
      "469/469 [==============================] - 25s 54ms/step - loss: 0.1553 - accuracy: 0.9441 - val_loss: 0.2525 - val_accuracy: 0.9101\n",
      "Epoch 11/20\n",
      "469/469 [==============================] - 25s 54ms/step - loss: 0.1415 - accuracy: 0.9485 - val_loss: 0.2347 - val_accuracy: 0.9200\n",
      "Epoch 12/20\n",
      "469/469 [==============================] - 26s 55ms/step - loss: 0.1312 - accuracy: 0.9521 - val_loss: 0.2413 - val_accuracy: 0.9219\n",
      "Epoch 13/20\n",
      "469/469 [==============================] - 25s 53ms/step - loss: 0.1202 - accuracy: 0.9552 - val_loss: 0.2515 - val_accuracy: 0.9150\n",
      "Epoch 14/20\n",
      "469/469 [==============================] - 25s 52ms/step - loss: 0.1092 - accuracy: 0.9608 - val_loss: 0.2517 - val_accuracy: 0.9206\n",
      "Epoch 15/20\n",
      "469/469 [==============================] - 25s 54ms/step - loss: 0.0953 - accuracy: 0.9653 - val_loss: 0.2574 - val_accuracy: 0.9220\n",
      "Epoch 16/20\n",
      "469/469 [==============================] - 25s 53ms/step - loss: 0.0878 - accuracy: 0.9678 - val_loss: 0.2641 - val_accuracy: 0.9172\n",
      "Epoch 17/20\n",
      "469/469 [==============================] - 25s 52ms/step - loss: 0.0794 - accuracy: 0.9711 - val_loss: 0.2655 - val_accuracy: 0.9200\n",
      "Epoch 18/20\n",
      "469/469 [==============================] - 24s 52ms/step - loss: 0.0726 - accuracy: 0.9741 - val_loss: 0.2789 - val_accuracy: 0.9166\n",
      "Epoch 19/20\n",
      "469/469 [==============================] - 25s 53ms/step - loss: 0.0650 - accuracy: 0.9764 - val_loss: 0.3029 - val_accuracy: 0.9208\n",
      "Epoch 20/20\n",
      "469/469 [==============================] - 24s 52ms/step - loss: 0.0557 - accuracy: 0.9806 - val_loss: 0.2966 - val_accuracy: 0.9189\n"
     ]
    },
    {
     "data": {
      "text/plain": [
       "<keras.callbacks.History at 0x23aef6770a0>"
      ]
     },
     "execution_count": 9,
     "metadata": {},
     "output_type": "execute_result"
    }
   ],
   "source": [
    "model.fit(x=x_train, y=y_train, \n",
    "          batch_size=128, epochs=20, \n",
    "          validation_data=(x_test, y_test))"
   ]
  }
 ],
 "metadata": {
  "interpreter": {
   "hash": "e13402258cd1103f15e24c414d70b0c58145e65f8d8670757232138edc115cfc"
  },
  "kernelspec": {
   "display_name": "Python 3.10.0 64-bit",
   "language": "python",
   "name": "python3"
  },
  "language_info": {
   "codemirror_mode": {
    "name": "ipython",
    "version": 3
   },
   "file_extension": ".py",
   "mimetype": "text/x-python",
   "name": "python",
   "nbconvert_exporter": "python",
   "pygments_lexer": "ipython3",
   "version": "3.10.0"
  },
  "orig_nbformat": 4
 },
 "nbformat": 4,
 "nbformat_minor": 2
}
